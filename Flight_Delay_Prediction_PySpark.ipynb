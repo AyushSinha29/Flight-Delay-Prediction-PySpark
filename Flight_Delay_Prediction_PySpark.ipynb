{
  "nbformat": 4,
  "nbformat_minor": 0,
  "metadata": {
    "colab": {
      "provenance": []
    },
    "kernelspec": {
      "name": "python3",
      "display_name": "Python 3"
    },
    "language_info": {
      "name": "python"
    }
  },
  "cells": [
    {
      "cell_type": "code",
      "execution_count": null,
      "metadata": {
        "colab": {
          "base_uri": "https://localhost:8080/"
        },
        "id": "vqC6a2D3K9d7",
        "outputId": "7ce9cafb-f4e6-4f5f-ee6a-c6a90494429d"
      },
      "outputs": [
        {
          "output_type": "stream",
          "name": "stdout",
          "text": [
            "Looking in indexes: https://pypi.org/simple, https://us-python.pkg.dev/colab-wheels/public/simple/\n",
            "Collecting pyspark\n",
            "  Downloading pyspark-3.3.2.tar.gz (281.4 MB)\n",
            "\u001b[2K     \u001b[90m━━━━━━━━━━━━━━━━━━━━━━━━━━━━━━━━━━━━━━━\u001b[0m \u001b[32m281.4/281.4 MB\u001b[0m \u001b[31m4.9 MB/s\u001b[0m eta \u001b[36m0:00:00\u001b[0m\n",
            "\u001b[?25h  Preparing metadata (setup.py) ... \u001b[?25l\u001b[?25hdone\n",
            "Collecting py4j==0.10.9.5\n",
            "  Downloading py4j-0.10.9.5-py2.py3-none-any.whl (199 kB)\n",
            "\u001b[2K     \u001b[90m━━━━━━━━━━━━━━━━━━━━━━━━━━━━━━━━━━━━━━\u001b[0m \u001b[32m199.7/199.7 KB\u001b[0m \u001b[31m21.0 MB/s\u001b[0m eta \u001b[36m0:00:00\u001b[0m\n",
            "\u001b[?25hBuilding wheels for collected packages: pyspark\n",
            "  Building wheel for pyspark (setup.py) ... \u001b[?25l\u001b[?25hdone\n",
            "  Created wheel for pyspark: filename=pyspark-3.3.2-py2.py3-none-any.whl size=281824025 sha256=10f9f5ee72a7221f3617d9272da1cc5ed1f8e45dbc88b98334b01f9af9cb5f17\n",
            "  Stored in directory: /root/.cache/pip/wheels/b1/59/a0/a1a0624b5e865fd389919c1a10f53aec9b12195d6747710baf\n",
            "Successfully built pyspark\n",
            "Installing collected packages: py4j, pyspark\n",
            "Successfully installed py4j-0.10.9.5 pyspark-3.3.2\n"
          ]
        }
      ],
      "source": [
        "!pip install pyspark"
      ]
    },
    {
      "cell_type": "code",
      "source": [
        "from pyspark.sql import SparkSession"
      ],
      "metadata": {
        "id": "N8GF7UddLR8P"
      },
      "execution_count": null,
      "outputs": []
    },
    {
      "cell_type": "code",
      "source": [
        "spark=SparkSession.builder.appName('Dataframe').getOrCreate()"
      ],
      "metadata": {
        "id": "ERCuAb3xLXfm"
      },
      "execution_count": null,
      "outputs": []
    },
    {
      "cell_type": "code",
      "source": [
        "spark"
      ],
      "metadata": {
        "colab": {
          "base_uri": "https://localhost:8080/",
          "height": 222
        },
        "id": "D-VXqpSELj8n",
        "outputId": "894190de-6dc9-4f0c-c4fd-13b25b139fbe"
      },
      "execution_count": null,
      "outputs": [
        {
          "output_type": "execute_result",
          "data": {
            "text/plain": [
              "<pyspark.sql.session.SparkSession at 0x7f5436a87880>"
            ],
            "text/html": [
              "\n",
              "            <div>\n",
              "                <p><b>SparkSession - in-memory</b></p>\n",
              "                \n",
              "        <div>\n",
              "            <p><b>SparkContext</b></p>\n",
              "\n",
              "            <p><a href=\"http://84af2f8fb200:4040\">Spark UI</a></p>\n",
              "\n",
              "            <dl>\n",
              "              <dt>Version</dt>\n",
              "                <dd><code>v3.3.2</code></dd>\n",
              "              <dt>Master</dt>\n",
              "                <dd><code>local[*]</code></dd>\n",
              "              <dt>AppName</dt>\n",
              "                <dd><code>Dataframe</code></dd>\n",
              "            </dl>\n",
              "        </div>\n",
              "        \n",
              "            </div>\n",
              "        "
            ]
          },
          "metadata": {},
          "execution_count": 4
        }
      ]
    },
    {
      "cell_type": "code",
      "source": [
        "df_pyspark=spark.read.option('header','true').csv('/content/flights-larger.csv',inferSchema=True) #to get int value we use inferschema"
      ],
      "metadata": {
        "id": "Yqc2ZoOHLn7W"
      },
      "execution_count": null,
      "outputs": []
    },
    {
      "cell_type": "code",
      "source": [
        "df_pyspark.printSchema()"
      ],
      "metadata": {
        "colab": {
          "base_uri": "https://localhost:8080/"
        },
        "id": "qoIJ-mfBL9PV",
        "outputId": "1ba3f394-22de-45a4-9ddc-2f996bec1956"
      },
      "execution_count": null,
      "outputs": [
        {
          "output_type": "stream",
          "name": "stdout",
          "text": [
            "root\n",
            " |-- mon: integer (nullable = true)\n",
            " |-- dom: integer (nullable = true)\n",
            " |-- dow: integer (nullable = true)\n",
            " |-- carrier: string (nullable = true)\n",
            " |-- flight: integer (nullable = true)\n",
            " |-- org: string (nullable = true)\n",
            " |-- mile: integer (nullable = true)\n",
            " |-- depart: double (nullable = true)\n",
            " |-- duration: integer (nullable = true)\n",
            " |-- delay: string (nullable = true)\n",
            "\n"
          ]
        }
      ]
    },
    {
      "cell_type": "code",
      "source": [
        "type(df_pyspark) #dataframe is a data structure"
      ],
      "metadata": {
        "colab": {
          "base_uri": "https://localhost:8080/"
        },
        "id": "1Xoiq9QKMO3b",
        "outputId": "efd96fcc-c0a5-4217-b2ad-93b1115284f7"
      },
      "execution_count": null,
      "outputs": [
        {
          "output_type": "execute_result",
          "data": {
            "text/plain": [
              "pyspark.sql.dataframe.DataFrame"
            ]
          },
          "metadata": {},
          "execution_count": 11
        }
      ]
    },
    {
      "cell_type": "code",
      "source": [
        "df_pyspark.columns"
      ],
      "metadata": {
        "colab": {
          "base_uri": "https://localhost:8080/"
        },
        "id": "ktvKcCENMrMX",
        "outputId": "610b11fd-1d9a-43f4-b434-feb689c5e57a"
      },
      "execution_count": null,
      "outputs": [
        {
          "output_type": "execute_result",
          "data": {
            "text/plain": [
              "['mon',\n",
              " 'dom',\n",
              " 'dow',\n",
              " 'carrier',\n",
              " 'flight',\n",
              " 'org',\n",
              " 'mile',\n",
              " 'depart',\n",
              " 'duration',\n",
              " 'delay']"
            ]
          },
          "metadata": {},
          "execution_count": 12
        }
      ]
    },
    {
      "cell_type": "code",
      "source": [
        "df_pyspark.head() #different from panda , it shows in list format"
      ],
      "metadata": {
        "colab": {
          "base_uri": "https://localhost:8080/"
        },
        "id": "kgWMT9pJMxxZ",
        "outputId": "0dd17483-3a71-4411-8b3d-91d781b87ff0"
      },
      "execution_count": null,
      "outputs": [
        {
          "output_type": "execute_result",
          "data": {
            "text/plain": [
              "Row(mon=10, dom=10, dow=1, carrier='OO', flight=5836, org='ORD', mile=157, depart=8.18, duration=51, delay='27')"
            ]
          },
          "metadata": {},
          "execution_count": 13
        }
      ]
    },
    {
      "cell_type": "code",
      "source": [
        "df_pyspark.select('carrier')"
      ],
      "metadata": {
        "colab": {
          "base_uri": "https://localhost:8080/"
        },
        "id": "Va_x6BXyM92C",
        "outputId": "e5d23696-3a31-4ea2-b22d-b4ecad4e09a6"
      },
      "execution_count": null,
      "outputs": [
        {
          "output_type": "execute_result",
          "data": {
            "text/plain": [
              "DataFrame[carrier: string]"
            ]
          },
          "metadata": {},
          "execution_count": 14
        }
      ]
    },
    {
      "cell_type": "code",
      "source": [
        "df_pyspark.select('carrier').show()"
      ],
      "metadata": {
        "colab": {
          "base_uri": "https://localhost:8080/"
        },
        "id": "5ME3_-UFNEfM",
        "outputId": "a7c5bcc2-263f-4281-bfd0-689e8226b866"
      },
      "execution_count": null,
      "outputs": [
        {
          "output_type": "stream",
          "name": "stdout",
          "text": [
            "+-------+\n",
            "|carrier|\n",
            "+-------+\n",
            "|     OO|\n",
            "|     OO|\n",
            "|     OO|\n",
            "|     B6|\n",
            "|     WN|\n",
            "|     B6|\n",
            "|     B6|\n",
            "|     UA|\n",
            "|     US|\n",
            "|     AA|\n",
            "|     B6|\n",
            "|     AA|\n",
            "|     B6|\n",
            "|     AA|\n",
            "|     UA|\n",
            "|     OH|\n",
            "|     UA|\n",
            "|     OH|\n",
            "|     UA|\n",
            "|     AA|\n",
            "+-------+\n",
            "only showing top 20 rows\n",
            "\n"
          ]
        }
      ]
    },
    {
      "cell_type": "code",
      "source": [
        "df_pyspark.select(['carrier','dom']).show()"
      ],
      "metadata": {
        "colab": {
          "base_uri": "https://localhost:8080/"
        },
        "id": "08xAdK_5NJh5",
        "outputId": "1dbce394-a56e-49b9-e953-3467f38df057"
      },
      "execution_count": null,
      "outputs": [
        {
          "output_type": "stream",
          "name": "stdout",
          "text": [
            "+-------+---+\n",
            "|carrier|dom|\n",
            "+-------+---+\n",
            "|     OO| 10|\n",
            "|     OO|  4|\n",
            "|     OO| 22|\n",
            "|     B6| 14|\n",
            "|     WN| 25|\n",
            "|     B6| 28|\n",
            "|     B6| 28|\n",
            "|     UA| 19|\n",
            "|     US|  5|\n",
            "|     AA| 27|\n",
            "|     B6| 20|\n",
            "|     AA|  3|\n",
            "|     B6| 26|\n",
            "|     AA|  9|\n",
            "|     UA|  8|\n",
            "|     OH| 10|\n",
            "|     UA| 14|\n",
            "|     OH|  8|\n",
            "|     UA| 14|\n",
            "|     AA|  2|\n",
            "+-------+---+\n",
            "only showing top 20 rows\n",
            "\n"
          ]
        }
      ]
    },
    {
      "cell_type": "code",
      "source": [
        "df_pyspark['dom'].show() #unlike pandas"
      ],
      "metadata": {
        "colab": {
          "base_uri": "https://localhost:8080/",
          "height": 171
        },
        "id": "mZ57HEYvNSEm",
        "outputId": "515630c7-e372-41ad-bfe0-8d434944cf89"
      },
      "execution_count": null,
      "outputs": [
        {
          "output_type": "error",
          "ename": "TypeError",
          "evalue": "ignored",
          "traceback": [
            "\u001b[0;31m---------------------------------------------------------------------------\u001b[0m",
            "\u001b[0;31mTypeError\u001b[0m                                 Traceback (most recent call last)",
            "\u001b[0;32m<ipython-input-19-7c50d4d2fd51>\u001b[0m in \u001b[0;36m<module>\u001b[0;34m\u001b[0m\n\u001b[0;32m----> 1\u001b[0;31m \u001b[0mdf_pyspark\u001b[0m\u001b[0;34m[\u001b[0m\u001b[0;34m'dom'\u001b[0m\u001b[0;34m]\u001b[0m\u001b[0;34m.\u001b[0m\u001b[0mshow\u001b[0m\u001b[0;34m(\u001b[0m\u001b[0;34m)\u001b[0m\u001b[0;34m\u001b[0m\u001b[0;34m\u001b[0m\u001b[0m\n\u001b[0m",
            "\u001b[0;31mTypeError\u001b[0m: 'Column' object is not callable"
          ]
        }
      ]
    },
    {
      "cell_type": "code",
      "source": [
        "df_pyspark.describe().show()"
      ],
      "metadata": {
        "colab": {
          "base_uri": "https://localhost:8080/"
        },
        "id": "mllXNK8xNfG-",
        "outputId": "ab34e40a-bb50-4c25-b81f-06d8af0c1f68"
      },
      "execution_count": null,
      "outputs": [
        {
          "output_type": "stream",
          "name": "stdout",
          "text": [
            "+-------+------------------+-----------------+------------------+-------+------------------+------+-----------------+------------------+------------------+-----------------+\n",
            "|summary|               mon|              dom|               dow|carrier|            flight|   org|             mile|            depart|          duration|            delay|\n",
            "+-------+------------------+-----------------+------------------+-------+------------------+------+-----------------+------------------+------------------+-----------------+\n",
            "|  count|            275000|           275000|            275000| 275000|            275000|275000|           275000|            275000|            275000|           275000|\n",
            "|   mean|           5.24232|15.71406909090909| 2.946090909090909|   null|2063.0542763636363|  null|881.2222872727273|14.124930981817384|151.64103636363637|28.34773064280709|\n",
            "| stddev|3.4273573316203576|8.805568383848067|1.9635141531217672|   null| 2185.852169684581|  null|700.5178890821038| 4.683189503417866|  87.0845640768675|54.01489538326629|\n",
            "|    min|                 0|                1|                 0|     AA|                 1|   JFK|               11|              0.12|                14|               -1|\n",
            "|    max|                11|               31|                 6|     WN|              6941|   TUS|             4243|             23.98|               605|               NA|\n",
            "+-------+------------------+-----------------+------------------+-------+------------------+------+-----------------+------------------+------------------+-----------------+\n",
            "\n"
          ]
        }
      ]
    },
    {
      "cell_type": "code",
      "source": [
        "##adding and dropping columns\n",
        "\n",
        "\n",
        "df_pyspark.withColumn('mon after 2',df_pyspark['mon']+2)"
      ],
      "metadata": {
        "colab": {
          "base_uri": "https://localhost:8080/"
        },
        "id": "rjS-Ur7iN8xe",
        "outputId": "bb7d0b5d-bd59-4f96-fc20-c2d2422d6ccb"
      },
      "execution_count": null,
      "outputs": [
        {
          "output_type": "execute_result",
          "data": {
            "text/plain": [
              "DataFrame[mon: int, dom: int, dow: int, carrier: string, flight: int, org: string, mile: int, depart: double, duration: int, delay: string, mon after 2: int]"
            ]
          },
          "metadata": {},
          "execution_count": 22
        }
      ]
    },
    {
      "cell_type": "code",
      "source": [
        "df_pyspark.withColumn('mon after 2',df_pyspark['mon']+2).show()"
      ],
      "metadata": {
        "colab": {
          "base_uri": "https://localhost:8080/"
        },
        "id": "2cODsRqVOSkz",
        "outputId": "f6e78083-d213-4b02-fd78-dcee27ea4407"
      },
      "execution_count": null,
      "outputs": [
        {
          "output_type": "stream",
          "name": "stdout",
          "text": [
            "+---+---+---+-------+------+---+----+------+--------+-----+-----------+\n",
            "|mon|dom|dow|carrier|flight|org|mile|depart|duration|delay|mon after 2|\n",
            "+---+---+---+-------+------+---+----+------+--------+-----+-----------+\n",
            "| 10| 10|  1|     OO|  5836|ORD| 157|  8.18|      51|   27|         12|\n",
            "|  1|  4|  1|     OO|  5866|ORD| 466|  15.5|     102|   NA|          3|\n",
            "| 11| 22|  1|     OO|  6016|ORD| 738|  7.17|     127|  -19|         13|\n",
            "|  2| 14|  5|     B6|   199|JFK|2248| 21.17|     365|   60|          4|\n",
            "|  5| 25|  3|     WN|  1675|SJC| 386| 12.92|      85|   22|          7|\n",
            "|  3| 28|  1|     B6|   377|LGA|1076| 13.33|     182|   70|          5|\n",
            "|  5| 28|  6|     B6|   904|ORD| 740|  9.58|     130|   47|          7|\n",
            "|  1| 19|  2|     UA|   820|SFO| 679| 12.75|     123|  135|          3|\n",
            "|  8|  5|  5|     US|  2175|LGA| 214|  13.0|      71|  -10|         10|\n",
            "|  5| 27|  5|     AA|  1240|ORD|1197| 14.42|     195|  -11|          7|\n",
            "|  8| 20|  6|     B6|   119|JFK|1182| 14.67|     198|   20|         10|\n",
            "|  2|  3|  1|     AA|  1881|JFK|1090| 15.92|     200|   -9|          4|\n",
            "|  8| 26|  5|     B6|    35|JFK|1028| 20.58|     193|  102|         10|\n",
            "|  4|  9|  5|     AA|   336|ORD| 733|  20.5|     125|   32|          6|\n",
            "|  3|  8|  2|     UA|   678|ORD| 733| 10.95|     129|   55|          5|\n",
            "|  8| 10|  3|     OH|  6347|LGA| 292| 11.75|     102|    8|         10|\n",
            "|  8| 14|  0|     UA|   624|ORD| 612| 17.92|     109|   57|         10|\n",
            "|  4|  8|  4|     OH|  5585|JFK| 301| 13.25|      88|   23|          6|\n",
            "|  1| 14|  4|     UA|  1524|SFO| 414| 14.87|      91|   27|          3|\n",
            "|  1|  2|  6|     AA|  1341|ORD|1846|   7.5|     275|   26|          3|\n",
            "+---+---+---+-------+------+---+----+------+--------+-----+-----------+\n",
            "only showing top 20 rows\n",
            "\n"
          ]
        }
      ]
    },
    {
      "cell_type": "code",
      "source": [
        "#dropping columns\n",
        "\n",
        "df_pyspark.drop('mon after 2')"
      ],
      "metadata": {
        "colab": {
          "base_uri": "https://localhost:8080/"
        },
        "id": "xvQ1YysBOY0H",
        "outputId": "9e4889cc-b027-4260-8d89-e8cc5197855f"
      },
      "execution_count": null,
      "outputs": [
        {
          "output_type": "execute_result",
          "data": {
            "text/plain": [
              "DataFrame[mon: int, dom: int, dow: int, carrier: string, flight: int, org: string, mile: int, depart: double, duration: int, delay: string]"
            ]
          },
          "metadata": {},
          "execution_count": 25
        }
      ]
    },
    {
      "cell_type": "code",
      "source": [
        "df_pyspark.show()"
      ],
      "metadata": {
        "colab": {
          "base_uri": "https://localhost:8080/"
        },
        "id": "qtAfviP8Otdr",
        "outputId": "e43a6de4-1d54-41e3-d511-880a3b7e6efc"
      },
      "execution_count": null,
      "outputs": [
        {
          "output_type": "stream",
          "name": "stdout",
          "text": [
            "+---+---+---+-------+------+---+----+------+--------+-----+\n",
            "|mon|dom|dow|carrier|flight|org|mile|depart|duration|delay|\n",
            "+---+---+---+-------+------+---+----+------+--------+-----+\n",
            "| 10| 10|  1|     OO|  5836|ORD| 157|  8.18|      51|   27|\n",
            "|  1|  4|  1|     OO|  5866|ORD| 466|  15.5|     102|   NA|\n",
            "| 11| 22|  1|     OO|  6016|ORD| 738|  7.17|     127|  -19|\n",
            "|  2| 14|  5|     B6|   199|JFK|2248| 21.17|     365|   60|\n",
            "|  5| 25|  3|     WN|  1675|SJC| 386| 12.92|      85|   22|\n",
            "|  3| 28|  1|     B6|   377|LGA|1076| 13.33|     182|   70|\n",
            "|  5| 28|  6|     B6|   904|ORD| 740|  9.58|     130|   47|\n",
            "|  1| 19|  2|     UA|   820|SFO| 679| 12.75|     123|  135|\n",
            "|  8|  5|  5|     US|  2175|LGA| 214|  13.0|      71|  -10|\n",
            "|  5| 27|  5|     AA|  1240|ORD|1197| 14.42|     195|  -11|\n",
            "|  8| 20|  6|     B6|   119|JFK|1182| 14.67|     198|   20|\n",
            "|  2|  3|  1|     AA|  1881|JFK|1090| 15.92|     200|   -9|\n",
            "|  8| 26|  5|     B6|    35|JFK|1028| 20.58|     193|  102|\n",
            "|  4|  9|  5|     AA|   336|ORD| 733|  20.5|     125|   32|\n",
            "|  3|  8|  2|     UA|   678|ORD| 733| 10.95|     129|   55|\n",
            "|  8| 10|  3|     OH|  6347|LGA| 292| 11.75|     102|    8|\n",
            "|  8| 14|  0|     UA|   624|ORD| 612| 17.92|     109|   57|\n",
            "|  4|  8|  4|     OH|  5585|JFK| 301| 13.25|      88|   23|\n",
            "|  1| 14|  4|     UA|  1524|SFO| 414| 14.87|      91|   27|\n",
            "|  1|  2|  6|     AA|  1341|ORD|1846|   7.5|     275|   26|\n",
            "+---+---+---+-------+------+---+----+------+--------+-----+\n",
            "only showing top 20 rows\n",
            "\n"
          ]
        }
      ]
    },
    {
      "cell_type": "code",
      "source": [
        "# rename columns\n",
        "\n",
        "df_pyspark.withColumnRenamed('MMon','mon').show()"
      ],
      "metadata": {
        "colab": {
          "base_uri": "https://localhost:8080/"
        },
        "id": "8MV6BOqpOywh",
        "outputId": "6b4c98eb-4876-4d6e-8cd0-fcbf733636fd"
      },
      "execution_count": null,
      "outputs": [
        {
          "output_type": "stream",
          "name": "stdout",
          "text": [
            "+---+---+---+-------+------+---+----+------+--------+-----+\n",
            "|mon|dom|dow|carrier|flight|org|mile|depart|duration|delay|\n",
            "+---+---+---+-------+------+---+----+------+--------+-----+\n",
            "| 10| 10|  1|     OO|  5836|ORD| 157|  8.18|      51|   27|\n",
            "|  1|  4|  1|     OO|  5866|ORD| 466|  15.5|     102|   NA|\n",
            "| 11| 22|  1|     OO|  6016|ORD| 738|  7.17|     127|  -19|\n",
            "|  2| 14|  5|     B6|   199|JFK|2248| 21.17|     365|   60|\n",
            "|  5| 25|  3|     WN|  1675|SJC| 386| 12.92|      85|   22|\n",
            "|  3| 28|  1|     B6|   377|LGA|1076| 13.33|     182|   70|\n",
            "|  5| 28|  6|     B6|   904|ORD| 740|  9.58|     130|   47|\n",
            "|  1| 19|  2|     UA|   820|SFO| 679| 12.75|     123|  135|\n",
            "|  8|  5|  5|     US|  2175|LGA| 214|  13.0|      71|  -10|\n",
            "|  5| 27|  5|     AA|  1240|ORD|1197| 14.42|     195|  -11|\n",
            "|  8| 20|  6|     B6|   119|JFK|1182| 14.67|     198|   20|\n",
            "|  2|  3|  1|     AA|  1881|JFK|1090| 15.92|     200|   -9|\n",
            "|  8| 26|  5|     B6|    35|JFK|1028| 20.58|     193|  102|\n",
            "|  4|  9|  5|     AA|   336|ORD| 733|  20.5|     125|   32|\n",
            "|  3|  8|  2|     UA|   678|ORD| 733| 10.95|     129|   55|\n",
            "|  8| 10|  3|     OH|  6347|LGA| 292| 11.75|     102|    8|\n",
            "|  8| 14|  0|     UA|   624|ORD| 612| 17.92|     109|   57|\n",
            "|  4|  8|  4|     OH|  5585|JFK| 301| 13.25|      88|   23|\n",
            "|  1| 14|  4|     UA|  1524|SFO| 414| 14.87|      91|   27|\n",
            "|  1|  2|  6|     AA|  1341|ORD|1846|   7.5|     275|   26|\n",
            "+---+---+---+-------+------+---+----+------+--------+-----+\n",
            "only showing top 20 rows\n",
            "\n"
          ]
        }
      ]
    },
    {
      "cell_type": "code",
      "source": [],
      "metadata": {
        "id": "3je34Ny3O__B"
      },
      "execution_count": null,
      "outputs": []
    },
    {
      "cell_type": "markdown",
      "source": [
        "#**Flight Delay Prediction**"
      ],
      "metadata": {
        "id": "zoyq4Cu4RVmN"
      }
    },
    {
      "cell_type": "code",
      "source": [
        "import numpy as np\n",
        "import pandas as pd \n",
        "import os\n",
        "import pyspark\n",
        "from pyspark.sql import SparkSession\n",
        "from pyspark.sql.types import StructType, StructField, IntegerType, StringType\n",
        "\n",
        "from pyspark.sql.functions import round\n",
        "from pyspark.ml.feature import StringIndexer\n",
        "from pyspark.ml.feature import VectorAssembler\n",
        "from pyspark.ml.classification import DecisionTreeClassifier\n",
        "from pyspark.ml.classification import LogisticRegression\n",
        "from pyspark.ml.evaluation import MulticlassClassificationEvaluator, BinaryClassificationEvaluator"
      ],
      "metadata": {
        "id": "bJUY6YVQRe4s"
      },
      "execution_count": null,
      "outputs": []
    },
    {
      "cell_type": "code",
      "source": [
        "spark = SparkSession.builder \\\n",
        "                    .master('local[*]') \\\n",
        "                    .appName('ML with PySpark') \\\n",
        "                    .getOrCreate()\n",
        "spark"
      ],
      "metadata": {
        "colab": {
          "base_uri": "https://localhost:8080/",
          "height": 222
        },
        "id": "02PdeypNRhWj",
        "outputId": "df98e2ae-5cba-4518-f5f6-b95e101a31ea"
      },
      "execution_count": null,
      "outputs": [
        {
          "output_type": "execute_result",
          "data": {
            "text/plain": [
              "<pyspark.sql.session.SparkSession at 0x7f5436a87880>"
            ],
            "text/html": [
              "\n",
              "            <div>\n",
              "                <p><b>SparkSession - in-memory</b></p>\n",
              "                \n",
              "        <div>\n",
              "            <p><b>SparkContext</b></p>\n",
              "\n",
              "            <p><a href=\"http://84af2f8fb200:4040\">Spark UI</a></p>\n",
              "\n",
              "            <dl>\n",
              "              <dt>Version</dt>\n",
              "                <dd><code>v3.3.2</code></dd>\n",
              "              <dt>Master</dt>\n",
              "                <dd><code>local[*]</code></dd>\n",
              "              <dt>AppName</dt>\n",
              "                <dd><code>Dataframe</code></dd>\n",
              "            </dl>\n",
              "        </div>\n",
              "        \n",
              "            </div>\n",
              "        "
            ]
          },
          "metadata": {},
          "execution_count": 33
        }
      ]
    },
    {
      "cell_type": "code",
      "source": [
        "flights_df = spark.read.csv('/content/flights-larger.csv',sep=',',header=True,inferSchema=True,nullValue='NA')"
      ],
      "metadata": {
        "id": "zPmkMCc4Rqp5"
      },
      "execution_count": null,
      "outputs": []
    },
    {
      "cell_type": "code",
      "source": [
        "\n",
        "print(\"The data contain %d records.\" % flights_df.count())\n",
        "\n",
        "flights_df.show(5)"
      ],
      "metadata": {
        "colab": {
          "base_uri": "https://localhost:8080/"
        },
        "id": "Glh9-aRlR3-i",
        "outputId": "77177386-99ca-403c-ba2f-51cd3e295e2d"
      },
      "execution_count": null,
      "outputs": [
        {
          "output_type": "stream",
          "name": "stdout",
          "text": [
            "The data contain 275000 records.\n",
            "+---+---+---+-------+------+---+----+------+--------+-----+\n",
            "|mon|dom|dow|carrier|flight|org|mile|depart|duration|delay|\n",
            "+---+---+---+-------+------+---+----+------+--------+-----+\n",
            "| 10| 10|  1|     OO|  5836|ORD| 157|  8.18|      51|   27|\n",
            "|  1|  4|  1|     OO|  5866|ORD| 466|  15.5|     102| null|\n",
            "| 11| 22|  1|     OO|  6016|ORD| 738|  7.17|     127|  -19|\n",
            "|  2| 14|  5|     B6|   199|JFK|2248| 21.17|     365|   60|\n",
            "|  5| 25|  3|     WN|  1675|SJC| 386| 12.92|      85|   22|\n",
            "+---+---+---+-------+------+---+----+------+--------+-----+\n",
            "only showing top 5 rows\n",
            "\n"
          ]
        }
      ]
    },
    {
      "cell_type": "code",
      "source": [
        "flights_df.dtypes"
      ],
      "metadata": {
        "colab": {
          "base_uri": "https://localhost:8080/"
        },
        "id": "RoOZA3kaSJUo",
        "outputId": "619f90e7-9178-487f-e60f-8112e2c56c98"
      },
      "execution_count": null,
      "outputs": [
        {
          "output_type": "execute_result",
          "data": {
            "text/plain": [
              "[('mon', 'int'),\n",
              " ('dom', 'int'),\n",
              " ('dow', 'int'),\n",
              " ('carrier', 'string'),\n",
              " ('flight', 'int'),\n",
              " ('org', 'string'),\n",
              " ('mile', 'int'),\n",
              " ('depart', 'double'),\n",
              " ('duration', 'int'),\n",
              " ('delay', 'int')]"
            ]
          },
          "metadata": {},
          "execution_count": 37
        }
      ]
    },
    {
      "cell_type": "code",
      "source": [
        "flights_df =  flights_df.drop('flight')\n",
        "flights_df = flights_df.dropna()\n",
        "print(flights_df.count())"
      ],
      "metadata": {
        "colab": {
          "base_uri": "https://localhost:8080/"
        },
        "id": "Bo__17FlSOw4",
        "outputId": "409580f9-78e8-4069-be4e-8045639101ec"
      },
      "execution_count": null,
      "outputs": [
        {
          "output_type": "stream",
          "name": "stdout",
          "text": [
            "258289\n"
          ]
        }
      ]
    },
    {
      "cell_type": "code",
      "source": [
        "\n",
        "flights_km = flights_df.withColumn('km', round(flights_df.mile * 1.60934, 0)) \\\n",
        "                    .drop('mile')\n",
        "\n",
        "\n",
        "flights_km = flights_km.withColumn('label', (flights_km.delay >= 15).cast('integer'))\n",
        "\n",
        "flights_km.show(5)"
      ],
      "metadata": {
        "colab": {
          "base_uri": "https://localhost:8080/"
        },
        "id": "ZIDQDjIdScWn",
        "outputId": "d13c8cb3-2188-4209-b70b-d675947351ee"
      },
      "execution_count": null,
      "outputs": [
        {
          "output_type": "stream",
          "name": "stdout",
          "text": [
            "+---+---+---+-------+---+------+--------+-----+------+-----+\n",
            "|mon|dom|dow|carrier|org|depart|duration|delay|    km|label|\n",
            "+---+---+---+-------+---+------+--------+-----+------+-----+\n",
            "| 10| 10|  1|     OO|ORD|  8.18|      51|   27| 253.0|    1|\n",
            "| 11| 22|  1|     OO|ORD|  7.17|     127|  -19|1188.0|    0|\n",
            "|  2| 14|  5|     B6|JFK| 21.17|     365|   60|3618.0|    1|\n",
            "|  5| 25|  3|     WN|SJC| 12.92|      85|   22| 621.0|    1|\n",
            "|  3| 28|  1|     B6|LGA| 13.33|     182|   70|1732.0|    1|\n",
            "+---+---+---+-------+---+------+--------+-----+------+-----+\n",
            "only showing top 5 rows\n",
            "\n"
          ]
        }
      ]
    },
    {
      "cell_type": "code",
      "source": [
        "\n",
        "flights_indexed = StringIndexer(inputCol='carrier', outputCol='carrier_idx').fit(flights_km).transform(flights_km)\n",
        "\n",
        "\n",
        "flights_indexed = StringIndexer(inputCol='org', outputCol='org_idx').fit(flights_indexed).transform(flights_indexed)\n",
        "flights_indexed.show(5)"
      ],
      "metadata": {
        "colab": {
          "base_uri": "https://localhost:8080/"
        },
        "id": "XXV9_0twTMWH",
        "outputId": "6d5bbf01-6fa5-4210-cf7e-7f9c62f08ea2"
      },
      "execution_count": null,
      "outputs": [
        {
          "output_type": "stream",
          "name": "stdout",
          "text": [
            "+---+---+---+-------+---+------+--------+-----+------+-----+-----------+-------+\n",
            "|mon|dom|dow|carrier|org|depart|duration|delay|    km|label|carrier_idx|org_idx|\n",
            "+---+---+---+-------+---+------+--------+-----+------+-----+-----------+-------+\n",
            "| 10| 10|  1|     OO|ORD|  8.18|      51|   27| 253.0|    1|        2.0|    0.0|\n",
            "| 11| 22|  1|     OO|ORD|  7.17|     127|  -19|1188.0|    0|        2.0|    0.0|\n",
            "|  2| 14|  5|     B6|JFK| 21.17|     365|   60|3618.0|    1|        4.0|    2.0|\n",
            "|  5| 25|  3|     WN|SJC| 12.92|      85|   22| 621.0|    1|        3.0|    5.0|\n",
            "|  3| 28|  1|     B6|LGA| 13.33|     182|   70|1732.0|    1|        4.0|    3.0|\n",
            "+---+---+---+-------+---+------+--------+-----+------+-----+-----------+-------+\n",
            "only showing top 5 rows\n",
            "\n"
          ]
        }
      ]
    },
    {
      "cell_type": "code",
      "source": [
        "\n",
        "assembler = VectorAssembler(inputCols=['mon', 'dom', 'dow','carrier_idx', 'org_idx', 'km', 'depart', 'duration'], outputCol='features')\n",
        "\n",
        "flights_assembled = assembler.transform(flights_indexed)\n",
        "\n",
        "flights_assembled.select('features', 'delay').show(5, truncate=False)"
      ],
      "metadata": {
        "colab": {
          "base_uri": "https://localhost:8080/"
        },
        "id": "1okLgEWJTRip",
        "outputId": "114dc97e-4b75-4688-b282-7c13ef1bf462"
      },
      "execution_count": null,
      "outputs": [
        {
          "output_type": "stream",
          "name": "stdout",
          "text": [
            "+-----------------------------------------+-----+\n",
            "|features                                 |delay|\n",
            "+-----------------------------------------+-----+\n",
            "|[10.0,10.0,1.0,2.0,0.0,253.0,8.18,51.0]  |27   |\n",
            "|[11.0,22.0,1.0,2.0,0.0,1188.0,7.17,127.0]|-19  |\n",
            "|[2.0,14.0,5.0,4.0,2.0,3618.0,21.17,365.0]|60   |\n",
            "|[5.0,25.0,3.0,3.0,5.0,621.0,12.92,85.0]  |22   |\n",
            "|[3.0,28.0,1.0,4.0,3.0,1732.0,13.33,182.0]|70   |\n",
            "+-----------------------------------------+-----+\n",
            "only showing top 5 rows\n",
            "\n"
          ]
        }
      ]
    },
    {
      "cell_type": "markdown",
      "source": [
        "Machine Learning Model"
      ],
      "metadata": {
        "id": "PJR6ISVVTaAv"
      }
    },
    {
      "cell_type": "code",
      "source": [
        "flights_train, flights_test = flights_assembled.randomSplit([0.8, 0.2], seed=42)\n",
        "\n",
        "\n",
        "training_ratio = flights_train.count() / flights_assembled.count()\n",
        "training_ratio"
      ],
      "metadata": {
        "colab": {
          "base_uri": "https://localhost:8080/"
        },
        "id": "9u8qdfxoTc0Q",
        "outputId": "9b2aa477-6ccb-4cad-b648-cb162ff3abe1"
      },
      "execution_count": null,
      "outputs": [
        {
          "output_type": "execute_result",
          "data": {
            "text/plain": [
              "0.7997359546864171"
            ]
          },
          "metadata": {},
          "execution_count": 44
        }
      ]
    },
    {
      "cell_type": "code",
      "source": [
        "#using decision tree\n",
        "\n",
        "tree = DecisionTreeClassifier()\n",
        "tree_model = tree.fit(flights_train)\n",
        "\n",
        "prediction = tree_model.transform(flights_test)\n",
        "prediction.select('label', 'prediction', 'probability').show(5, False)"
      ],
      "metadata": {
        "colab": {
          "base_uri": "https://localhost:8080/"
        },
        "id": "vpU7rcWhTori",
        "outputId": "1c6f1184-ef39-4304-f1f3-6e6ddd9f54c4"
      },
      "execution_count": null,
      "outputs": [
        {
          "output_type": "stream",
          "name": "stdout",
          "text": [
            "+-----+----------+----------------------------------------+\n",
            "|label|prediction|probability                             |\n",
            "+-----+----------+----------------------------------------+\n",
            "|0    |1.0       |[0.31713843432109684,0.6828615656789031]|\n",
            "|1    |1.0       |[0.31713843432109684,0.6828615656789031]|\n",
            "|0    |1.0       |[0.31713843432109684,0.6828615656789031]|\n",
            "|0    |1.0       |[0.4312231340367331,0.5687768659632669] |\n",
            "|0    |1.0       |[0.31713843432109684,0.6828615656789031]|\n",
            "+-----+----------+----------------------------------------+\n",
            "only showing top 5 rows\n",
            "\n"
          ]
        }
      ]
    },
    {
      "cell_type": "markdown",
      "source": [
        "Evaluation of the model"
      ],
      "metadata": {
        "id": "taz__Iv4TvPJ"
      }
    },
    {
      "cell_type": "code",
      "source": [
        "prediction.groupBy('label', 'prediction').count().show()\n",
        "\n",
        "# Calculate the elements of the confusion matrix\n",
        "TN = prediction.filter('prediction = 0 AND label = prediction').count()\n",
        "TP = prediction.filter('prediction = 1 AND label = prediction').count()\n",
        "FN = prediction.filter('prediction = 0 AND label != prediction').count()\n",
        "FP = prediction.filter('prediction = 1 AND label != prediction').count()\n",
        "\n",
        "\n",
        "accuracy = (TN + TP) / (TN + TP + FN + FP)\n",
        "accuracy"
      ],
      "metadata": {
        "colab": {
          "base_uri": "https://localhost:8080/"
        },
        "id": "hjDMjb-ATzDh",
        "outputId": "5d0160c8-601e-4bf5-e02a-363c6e09c90f"
      },
      "execution_count": null,
      "outputs": [
        {
          "output_type": "stream",
          "name": "stdout",
          "text": [
            "+-----+----------+-----+\n",
            "|label|prediction|count|\n",
            "+-----+----------+-----+\n",
            "|    1|       0.0| 9196|\n",
            "|    0|       0.0|16378|\n",
            "|    1|       1.0|16697|\n",
            "|    0|       1.0| 9455|\n",
            "+-----+----------+-----+\n",
            "\n",
            "0.6394269806286974\n"
          ]
        }
      ]
    },
    {
      "cell_type": "code",
      "source": [
        "#using logistic regression\n",
        "\n",
        "logistic = LogisticRegression().fit(flights_train)\n",
        "\n",
        "prediction = logistic.transform(flights_test)\n",
        "prediction.groupBy('label', 'prediction').count().show()"
      ],
      "metadata": {
        "colab": {
          "base_uri": "https://localhost:8080/"
        },
        "id": "JEpRnmcIT3BH",
        "outputId": "298034ec-6ff6-4da9-82ac-d62e5b31b64f"
      },
      "execution_count": null,
      "outputs": [
        {
          "output_type": "stream",
          "name": "stdout",
          "text": [
            "+-----+----------+-----+\n",
            "|label|prediction|count|\n",
            "+-----+----------+-----+\n",
            "|    1|       0.0| 9378|\n",
            "|    0|       0.0|15026|\n",
            "|    1|       1.0|16515|\n",
            "|    0|       1.0|10807|\n",
            "+-----+----------+-----+\n",
            "\n"
          ]
        }
      ]
    },
    {
      "cell_type": "code",
      "source": [
        "# Calculate precision and recall\n",
        "precision = TP / (TP + FP)\n",
        "recall = TP / (TP + FN)\n",
        "print('precision = {:.2f}\\nrecall    = {:.2f}'.format(precision, recall))\n",
        "\n",
        "# Find weighted precision\n",
        "multi_evaluator = MulticlassClassificationEvaluator()\n",
        "weighted_precision = multi_evaluator.evaluate(prediction, {multi_evaluator.metricName: \"weightedPrecision\"})\n",
        "\n",
        "# Find AUC\n",
        "binary_evaluator = BinaryClassificationEvaluator()\n",
        "auc = binary_evaluator.evaluate(prediction, {binary_evaluator.metricName: \"areaUnderROC\"})"
      ],
      "metadata": {
        "colab": {
          "base_uri": "https://localhost:8080/"
        },
        "id": "VSHltL7FUFiv",
        "outputId": "66e7a72f-c0a3-4cd9-bec7-c8a42fcb7795"
      },
      "execution_count": null,
      "outputs": [
        {
          "output_type": "stream",
          "name": "stdout",
          "text": [
            "precision = 0.64\n",
            "recall    = 0.64\n"
          ]
        }
      ]
    }
  ]
}